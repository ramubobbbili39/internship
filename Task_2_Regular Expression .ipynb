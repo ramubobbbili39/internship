{
 "cells": [
  {
   "cell_type": "raw",
   "id": "b92f84f8-b7f5-4a5f-814e-3004d21b40b4",
   "metadata": {},
   "source": [
    "1- Write a RegEx pattern in python program to check that a string contains only a certain set of characters (in this case a-z, A-Z and 0-9)."
   ]
  },
  {
   "cell_type": "code",
   "execution_count": 21,
   "id": "acfa99b7-af9e-4d82-938e-4e10cf1065ce",
   "metadata": {},
   "outputs": [],
   "source": [
    "import re\n",
    "\n",
    "def input_string(string):\n",
    "    pattern = r\"^[a-zA-Z0-9]+$\"\n",
    "    res=re.match(pattern, string)\n",
    "    if res:\n",
    "        print(\"Given string contains only characters that are either lowercase letters, uppercase letters, or digits.\")\n",
    "        print(string)\n",
    "    else:\n",
    "        print(\"String contains other characters as well.\")\n",
    "        print(string)\n",
    "\n"
   ]
  },
  {
   "cell_type": "code",
   "execution_count": 17,
   "id": "3be9706c-8159-474d-951b-a08e83057389",
   "metadata": {},
   "outputs": [
    {
     "name": "stdout",
     "output_type": "stream",
     "text": [
      "Given string contains only characters that are either lowercase letters, uppercase letters, or digits.\n",
      "Datatraines123\n"
     ]
    }
   ],
   "source": [
    "input_string(\"Datatraines123\")"
   ]
  },
  {
   "cell_type": "code",
   "execution_count": 22,
   "id": "7f8d2b8b-909e-4dee-b627-1aa839acf9ca",
   "metadata": {},
   "outputs": [
    {
     "name": "stdout",
     "output_type": "stream",
     "text": [
      "String contains other characters as well.\n",
      "Hi!\n"
     ]
    }
   ],
   "source": [
    "input_string(\"Hi!\")"
   ]
  },
  {
   "cell_type": "raw",
   "id": "f932307d-4f3b-4c20-a25e-a9a209fd3ab2",
   "metadata": {},
   "source": [
    "2- Write a RegEx patternthat matches a string that has an a followed by zero or more b's"
   ]
  },
  {
   "cell_type": "code",
   "execution_count": 135,
   "id": "f1feda09-c861-4904-8f25-90516439932c",
   "metadata": {},
   "outputs": [
    {
     "name": "stdout",
     "output_type": "stream",
     "text": [
      "Matched: bb\n",
      "Matched: acc\n",
      "Matched: c0\n",
      "Matched: abb\n"
     ]
    }
   ],
   "source": [
    "import re\n",
    "\n",
    "strings = [\"bb\",\"acc\",\"c0\",\"abb\"]\n",
    "\n",
    "pattern = r\".*b*$\"\n",
    "for string in strings:\n",
    "    if re.match(pattern, string):\n",
    "        print(f\"Matched: {string}\")\n",
    "    else:\n",
    "        print(f\"Not matched: {string}\")\n"
   ]
  },
  {
   "cell_type": "raw",
   "id": "3ff99566-e8d4-43e3-bcd0-b02586d94c0b",
   "metadata": {},
   "source": [
    "3-  Write a RegEx pattern that matches a string that has an a followed by one or more b's"
   ]
  },
  {
   "cell_type": "code",
   "execution_count": 134,
   "id": "f3593226-8af9-4046-bfb7-692eb8e196d9",
   "metadata": {},
   "outputs": [
    {
     "name": "stdout",
     "output_type": "stream",
     "text": [
      "Matched: bb\n",
      "Matched: acc\n",
      "Matched: c0\n",
      "Matched: abb\n"
     ]
    }
   ],
   "source": [
    "import re\n",
    "\n",
    "strings = [\"bb\",\"acc\",\"c0\",\"abb\"]\n",
    "\n",
    "pattern = r\".b*$\"\n",
    "for string in strings:\n",
    "    if re.match(pattern, string):\n",
    "        print(f\"Matched: {string}\")\n",
    "    else:\n",
    "        print(f\"Not matched: {string}\")"
   ]
  },
  {
   "cell_type": "raw",
   "id": "6caa48ca-a521-4433-a227-a19be5874d5e",
   "metadata": {},
   "source": [
    "4- Write a RegEx patternthat matches a string that has an a followed by zero or one 'b'."
   ]
  },
  {
   "cell_type": "code",
   "execution_count": 133,
   "id": "8600c4f6-e50a-41d9-8d97-3e98ad1489b0",
   "metadata": {},
   "outputs": [
    {
     "name": "stdout",
     "output_type": "stream",
     "text": [
      "Matched: bb\n",
      "Not matched: acc\n",
      "Matched: c0\n",
      "Matched: abb\n"
     ]
    }
   ],
   "source": [
    "import re\n",
    "\n",
    "strings = [\"bb\",\"acc\",\"c0\",\"abb\"]\n",
    "\n",
    "pattern = r\".[0b]$\"\n",
    "for string in strings:\n",
    "    if re.match(pattern, string):\n",
    "        print(f\"Matched: {string}\")\n",
    "    else:\n",
    "        print(f\"Not matched: {string}\")"
   ]
  },
  {
   "cell_type": "raw",
   "id": "6612b14a-54d0-4f2a-8cac-18a1face6a62",
   "metadata": {},
   "source": [
    "5- Write a RegEx pattern in python program that matches a string that has an a followed by three 'b'."
   ]
  },
  {
   "cell_type": "code",
   "execution_count": 147,
   "id": "0d97229d-75e0-4b3f-9ad3-5e7a639c2b92",
   "metadata": {},
   "outputs": [
    {
     "name": "stdout",
     "output_type": "stream",
     "text": [
      "Not matched: abbcbbbb\n",
      "Not matched: acc\n",
      "Not matched: c0\n",
      "Not matched: abb\n",
      "Matched: abbbs\n"
     ]
    }
   ],
   "source": [
    "import re\n",
    "\n",
    "strings = [\"abbcbbbb\",\"acc\",\"c0\",\"abb\",\"abbbs\"]\n",
    "\n",
    "pattern = r\".bbb\"\n",
    "for string in strings:\n",
    "    if re.match(pattern, string):\n",
    "        print(f\"Matched: {string}\")\n",
    "    else:\n",
    "        print(f\"Not matched: {string}\")\n"
   ]
  },
  {
   "cell_type": "code",
   "execution_count": null,
   "id": "a855ce5b-29dd-45d4-ba78-c15ff885094f",
   "metadata": {},
   "outputs": [],
   "source": [
    "- Write a RegEx pattern in python programthat matches a string that has an a followed by two to three 'b'."
   ]
  },
  {
   "cell_type": "code",
   "execution_count": 152,
   "id": "367f3793-5e07-443c-923a-8b94052934c6",
   "metadata": {},
   "outputs": [
    {
     "name": "stdout",
     "output_type": "stream",
     "text": [
      "Matched: abbcbbbb\n",
      "Not matched: acc\n",
      "Not matched: c0\n",
      "Matched: abb\n",
      "Matched: abbbs\n"
     ]
    }
   ],
   "source": [
    "import re\n",
    "\n",
    "strings = [\"abbcbbbb\",\"acc\",\"c0\",\"abb\",\"abbbs\"]\n",
    "\n",
    "pattern = r\".b{2,3}\"\n",
    "for string in strings:\n",
    "    if re.match(pattern, string):\n",
    "        print(f\"Matched: {string}\")\n",
    "    else:\n",
    "        print(f\"Not matched: {string}\")\n"
   ]
  },
  {
   "cell_type": "raw",
   "id": "e3219fff-531b-4d34-b165-a45b8a8d9515",
   "metadata": {},
   "source": [
    "7- Write a Python program that matches a string that has an 'a' followed by anything, ending in 'b'."
   ]
  },
  {
   "cell_type": "code",
   "execution_count": 162,
   "id": "9a2aea25-ec37-4bcf-b81e-4fe6b67bdb35",
   "metadata": {},
   "outputs": [
    {
     "name": "stdout",
     "output_type": "stream",
     "text": [
      "Matched: abbcb\n",
      "Not matched: acc\n",
      "Not matched: c0\n",
      "Matched: bab\n",
      "Matched: abbb\n"
     ]
    }
   ],
   "source": [
    "import re\n",
    "\n",
    "strings = [\"abbcb\",\"acc\",\"c0\",\"bab\",\"abbb\"]\n",
    "\n",
    "pattern = r\".*a.*b$\"\n",
    "for string in strings:\n",
    "    if re.match(pattern, string):\n",
    "        print(f\"Matched: {string}\")\n",
    "    else:\n",
    "        print(f\"Not matched: {string}\")"
   ]
  },
  {
   "cell_type": "code",
   "execution_count": null,
   "id": "754047ee-02ac-42c9-a64b-507247ff5251",
   "metadata": {},
   "outputs": [],
   "source": [
    "8- Write a RegEx pattern in python program that matches a word at the beginning of a string."
   ]
  },
  {
   "cell_type": "code",
   "execution_count": 169,
   "id": "af9dbbd6-4ab0-44e1-8eb7-bf3f41ff0649",
   "metadata": {},
   "outputs": [
    {
     "name": "stdout",
     "output_type": "stream",
     "text": [
      "Match objects: ['APJ']\n"
     ]
    }
   ],
   "source": [
    "text=\"APJ Abdul Kalam was an Indian aerospace scientist also know as the Missile12345 Man of India\"\n",
    "result=re.findall(r\"^\\w+\",text)   #6 Consecutve letter in the word\n",
    "print(\"Match objects:\",result)"
   ]
  },
  {
   "cell_type": "raw",
   "id": "58e2a868-a926-46e3-8d92-57c498c488ab",
   "metadata": {},
   "source": [
    "9-Write a RegEx pattern in python program that matches a word at the end of a string"
   ]
  },
  {
   "cell_type": "code",
   "execution_count": 171,
   "id": "9320edf9-f0a2-4b8c-aab0-453e964f856d",
   "metadata": {},
   "outputs": [
    {
     "name": "stdout",
     "output_type": "stream",
     "text": [
      "Match objects: ['India']\n"
     ]
    }
   ],
   "source": [
    "text=\"APJ Abdul Kalam was an Indian aerospace scientist also know as the Missile12345 Man of India\"\n",
    "result=re.findall(r\"\\w+$\",text)   #6 Consecutve letter in the word\n",
    "print(\"Match objects:\",result)"
   ]
  },
  {
   "cell_type": "raw",
   "id": "c2973d9b-2194-4fdc-b1ce-42ff67201746",
   "metadata": {},
   "source": [
    "10- Write a RegEx pattern in python program to find all words that are 4 digits long in a string."
   ]
  },
  {
   "cell_type": "code",
   "execution_count": 175,
   "id": "5b4873e1-d164-4517-ae63-565986688001",
   "metadata": {},
   "outputs": [
    {
     "name": "stdout",
     "output_type": "stream",
     "text": [
      "Match objects: ['0132', '1458', '2725']\n"
     ]
    }
   ],
   "source": [
    "text=\"01 0132 231875 1458 301 2725\"\n",
    "pattern=r\"\\b\\d{4}\\b\"\n",
    "result=re.findall(pattern,text) \n",
    "print(\"Match objects:\",result)"
   ]
  },
  {
   "cell_type": "code",
   "execution_count": null,
   "id": "e1571fe1-71f3-4ce6-9f19-7fa97c8e4eaf",
   "metadata": {},
   "outputs": [],
   "source": []
  },
  {
   "cell_type": "code",
   "execution_count": null,
   "id": "6ac91b67-afe0-4558-84f4-a8837e5de339",
   "metadata": {},
   "outputs": [],
   "source": []
  },
  {
   "cell_type": "code",
   "execution_count": null,
   "id": "6e5b0e06-689c-42eb-b756-1cb9d0caeb01",
   "metadata": {},
   "outputs": [],
   "source": []
  },
  {
   "cell_type": "code",
   "execution_count": null,
   "id": "82253c0e-fe49-4cf6-a35f-809fe1401230",
   "metadata": {},
   "outputs": [],
   "source": []
  }
 ],
 "metadata": {
  "kernelspec": {
   "display_name": "Python 3 (ipykernel)",
   "language": "python",
   "name": "python3"
  },
  "language_info": {
   "codemirror_mode": {
    "name": "ipython",
    "version": 3
   },
   "file_extension": ".py",
   "mimetype": "text/x-python",
   "name": "python",
   "nbconvert_exporter": "python",
   "pygments_lexer": "ipython3",
   "version": "3.11.7"
  }
 },
 "nbformat": 4,
 "nbformat_minor": 5
}
