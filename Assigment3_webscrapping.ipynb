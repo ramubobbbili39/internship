{
 "cells": [
  {
   "cell_type": "code",
   "execution_count": 1,
   "id": "7355e4cd-fa30-4501-a8f8-6af91ae1afbe",
   "metadata": {},
   "outputs": [],
   "source": [
    "from selenium import webdriver\n",
    "from selenium.webdriver.common.by import By\n",
    "import pandas as pd\n",
    "from selenium import webdriver\n",
    "from selenium.webdriver.common.by import By\n",
    "import time\n",
    "from selenium.webdriver.support import expected_conditions as EC\n",
    "from selenium.common.exceptions import NoSuchElementException, StaleElementReferenceException\n",
    "from selenium.webdriver.common.keys import Keys\n",
    "from selenium.webdriver.support.ui import WebDriverWait\n",
    "from selenium.common.exceptions import TimeoutException, StaleElementReferenceException\n",
    "\n"
   ]
  },
  {
   "cell_type": "code",
   "execution_count": 4,
   "id": "ddf2f928-6dd5-4721-a861-7bf272037be1",
   "metadata": {},
   "outputs": [],
   "source": [
    "driver=webdriver.Chrome()"
   ]
  },
  {
   "cell_type": "code",
   "execution_count": 5,
   "id": "ed1e9d62-89e5-499e-8447-596192395aaa",
   "metadata": {},
   "outputs": [],
   "source": [
    "#Open the Naukaripage on automated chrome browser\n",
    "driver.get(\"https://www.amazon.in/\")\n"
   ]
  },
  {
   "cell_type": "code",
   "execution_count": 6,
   "id": "a73d800a-cf9f-4e8e-af42-6a9aa0a25118",
   "metadata": {},
   "outputs": [
    {
     "name": "stdin",
     "output_type": "stream",
     "text": [
      "Enter the product to search on Amazon.in:  laptop\n"
     ]
    }
   ],
   "source": [
    "search_item= input(\"Enter the product to search on Amazon.in: \")"
   ]
  },
  {
   "cell_type": "code",
   "execution_count": 7,
   "id": "33b38fdc-ac6a-423a-9e01-b1c19ec4caf6",
   "metadata": {},
   "outputs": [],
   "source": [
    "search_box = driver.find_element(By.ID,\"twotabsearchtextbox\")\n",
    "search_box.send_keys(search_item)"
   ]
  },
  {
   "cell_type": "code",
   "execution_count": 8,
   "id": "bbfc3455-7a83-4875-8ba3-2eee75c83f42",
   "metadata": {},
   "outputs": [],
   "source": [
    "search=driver.find_element(By.ID,\"nav-search-submit-button\")\n",
    "search.click()"
   ]
  },
  {
   "cell_type": "code",
   "execution_count": 14,
   "id": "9586d737-1068-4858-bc3c-ccd23f66ddc4",
   "metadata": {},
   "outputs": [
    {
     "name": "stdout",
     "output_type": "stream",
     "text": [
      "Scraping page 1...\n",
      "Error: HTTPConnectionPool(host='localhost', port=50360): Max retries exceeded with url: /session/2c1bbfb49b7773f8c5573fee3a67f49b/element (Caused by NewConnectionError('<urllib3.connection.HTTPConnection object at 0x000001A3FE8F6650>: Failed to establish a new connection: [WinError 10061] No connection could be made because the target machine actively refused it'))\n"
     ]
    }
   ],
   "source": [
    "    product_details = []\n",
    "\n",
    "    # Loop through first 3 pages of search results (or fewer if less available)\n",
    "    current_page = 1\n",
    "    max_pages = 3\n",
    "\n",
    "    while current_page <= max_pages:\n",
    "        print(f\"Scraping page {current_page}...\")\n",
    "        time.sleep(2)  # Let the page load\n",
    "\n",
    "\n",
    "        for result in results:\n",
    "            try:\n",
    "                # Extract product details\n",
    "                brand_name = result.find_element(By.XPATH, './/h2[@class=\"a-size-mini a-spacing-none a-color-base s-line-clamp-2\"]/a').text.strip()\n",
    "            except NoSuchElementException:\n",
    "                brand_name = '-'\n",
    "\n",
    "            try:\n",
    "                price = result.find_element(By.XPATH, './/span[@class=\"a-price-whole\"]').text.strip()\n",
    "            except NoSuchElementException:\n",
    "                price = '-'\n",
    "\n",
    "            try:\n",
    "                return_exchange = result.find_element(By.CLASS_NAMR, 'div.a-row.a-size-base.a-color-secondary').text.strip()\n",
    "            except NoSuchElementException:\n",
    "                return_exchange = '-'\n",
    "\n",
    "            try:\n",
    "                expected_delivery = result.find_element(By.XPATH, './/span[@class=\"a-color-base a-text-bold\"]').text.strip()\n",
    "            except NoSuchElementException:\n",
    "                expected_delivery = '-'\n",
    "\n",
    "            try:\n",
    "                availability = result.find_element(By.XPATH, './/div[@id=\"availability\"]/span').text.strip()\n",
    "            except NoSuchElementException:\n",
    "                availability = '-'\n",
    "\n",
    "            try:\n",
    "                product_url = result.find_element(By.XPATH, './/h2[@class=\"a-size-mini a-spacing-none a-color-base s-line-clamp-2\"]/a').get_attribute('href').strip()\n",
    "            except NoSuchElementException:\n",
    "                product_url = '-'\n",
    "\n",
    "            # Append product details to list\n",
    "            product_details.append({\n",
    "                'Brand Name': brand_name,\n",
    "                'Price': price,\n",
    "                'Return/Exchange': return_exchange,\n",
    "                'Expected Delivery': expected_delivery,\n",
    "                'Availability': availability,\n",
    "                'Product URL': product_url\n",
    "            })\n",
    "            \n",
    "        # Check if there is a next page\n",
    "        try:\n",
    "            next_button = driver.find_element(By.XPATH,'.//a[@class=\"s-pagination-item s-pagination-next s-pagination-button s-pagination-separator\"]')\n",
    "            next_button.click()\n",
    "            current_page += 1\n",
    "                      \n",
    "        except NoSuchElementException:\n",
    "            break\n",
    "        except StaleElementReferenceException:\n",
    "            break\n",
    "        except TimeoutException:\n",
    "            break\n",
    "        except NoSuchWindowException as e:\n",
    "            print(f\"NoSuchWindowException: {e}\")\n",
    "            break\n",
    "        except Exception as e:\n",
    "            print(f\"Error: {e}\")\n",
    "            break\n",
    "\n",
    "\n",
    "\n",
    "\n",
    "df = pd.DataFrame(product_details)\n",
    "    \n",
    "\n"
   ]
  },
  {
   "cell_type": "code",
   "execution_count": 62,
   "id": "e10f2b62-89c6-4a5b-bf1f-5053f0a61326",
   "metadata": {},
   "outputs": [],
   "source": [
    "driver1 = webdriver.Chrome()\n"
   ]
  },
  {
   "cell_type": "code",
   "execution_count": 63,
   "id": "61c9df9f-c530-4b7a-9034-8842715688ef",
   "metadata": {},
   "outputs": [],
   "source": [
    "keywords = ['fruits', 'cars',  'Machine Learning', 'Guitar', 'Cakes']\n"
   ]
  },
  {
   "cell_type": "code",
   "execution_count": 35,
   "id": "a68a190b-5879-465d-a133-43263818e649",
   "metadata": {},
   "outputs": [
    {
     "name": "stdout",
     "output_type": "stream",
     "text": [
      "Top 10 Images for 'fruits':\n",
      "1. https://www.google.com/images/branding/googlelogo/2x/googlelogo_color_92x30dp.png\n",
      "2. https://encrypted-tbn0.gstatic.com/images?q=tbn:ANd9GcSfXdjbHBJX06KUKN4tkfd8KFFDyYnIICCvDxYxgY3_0Plx7p71-aCeB-fp&s\n",
      "3. https://encrypted-tbn0.gstatic.com/images?q=tbn:ANd9GcQJI-r9JDFn4sJnHXt76kL8lBBybGhtbRz3ArtMtSSGdocJlaSoA2sZPze4&s\n",
      "4. https://encrypted-tbn0.gstatic.com/images?q=tbn:ANd9GcQ7_oUcpRcockTx1Ais7ZEkPKNbuhkldMznwcvnpM_2lrMY3VT24jmALvxQ&s\n",
      "5. https://fonts.gstatic.com/s/i/productlogos/googleg/v6/24px.svg\n",
      "6. https://encrypted-tbn0.gstatic.com/images?q=tbn:ANd9GcQiTNyEzEUByF7Z2Hp8CmS8Va721UxKICTpEQ&s\n",
      "7. https://encrypted-tbn0.gstatic.com/images?q=tbn:ANd9GcQLeku6qSnFf9wEXAjs_clW4oTnO6fCgkhgMQ&s\n",
      "8. https://encrypted-tbn0.gstatic.com/images?q=tbn:ANd9GcR7vUOHVksB5tyP5e0PWj_Z6U9kgddOGk0heQ&s\n",
      "9. https://encrypted-tbn0.gstatic.com/images?q=tbn:ANd9GcSyORYfSQIUhhwgSZzR9lTMjrlYayMxFX5kHw&s\n",
      "10. https://encrypted-tbn0.gstatic.com/images?q=tbn:ANd9GcQafzLlmC55QVFOyFpPBlqdHIoUZZL4IsZcXw&s\n",
      "Top 10 Images for 'cars':\n",
      "1. https://www.google.com/images/branding/googlelogo/2x/googlelogo_color_92x30dp.png\n",
      "2. https://encrypted-tbn0.gstatic.com/images?q=tbn:ANd9GcTYLLWchCxJHeX75F7LfyYrkW7HcE3U3vtrVtB31FOo3ZBRtI-CFnEHx-0x&s\n",
      "3. https://encrypted-tbn0.gstatic.com/images?q=tbn:ANd9GcQXMiAyV7OK9ivnHoTFQCbqT1qN2XE7mPlP8Jncw60SxfUAmDdSUL0XCfre&s\n",
      "4. https://encrypted-tbn0.gstatic.com/images?q=tbn:ANd9GcTuzi-Wv0SJ0IKlYHaNAee1jfc1nPQL66vrB5ZdHQGg3fYHJX-QCQkYs40V&s\n",
      "5. https://encrypted-tbn0.gstatic.com/images?q=tbn:ANd9GcSX5BtQTLYSFBS9dskWiO4dvXSamth9jKtuj_e5Z7P7hxtIqnZznt98xSt7&s\n",
      "6. https://fonts.gstatic.com/s/i/productlogos/googleg/v6/24px.svg\n",
      "7. https://encrypted-tbn0.gstatic.com/images?q=tbn:ANd9GcQoeYr9oUiZGe4eY2awA7bt4E3OSmIDsMvcmQ&s\n",
      "8. https://encrypted-tbn0.gstatic.com/images?q=tbn:ANd9GcRNbZvBFjRzwwXI4Y-pT-WubyaciSVXpWhG9A&s\n",
      "9. https://encrypted-tbn0.gstatic.com/images?q=tbn:ANd9GcQEaYTdfpQj8CAaQwpgNfmDDP4apngmaAc66A&s\n",
      "10. https://encrypted-tbn0.gstatic.com/images?q=tbn:ANd9GcRZZDDspR9y2tCdRYvR-A5IdSSMybKGCb3vlw&s\n",
      "Top 10 Images for 'Machine Learning':\n",
      "1. https://www.google.com/images/branding/googlelogo/2x/googlelogo_color_92x30dp.png\n",
      "2. https://encrypted-tbn0.gstatic.com/images?q=tbn:ANd9GcTRy0dC72AN4ffXNzQvAuNHMxnDx-sdW1_PFHPcezsHJAOwAeDCngpSotO6&s\n",
      "3. https://encrypted-tbn0.gstatic.com/images?q=tbn:ANd9GcRO_feIFgM5gXKmck9n58A6sxKdR4DPxosE1zk6SUs-M_dIccirP6w3xxWh&s\n",
      "4. https://fonts.gstatic.com/s/i/productlogos/googleg/v6/24px.svg\n",
      "5. https://encrypted-tbn0.gstatic.com/images?q=tbn:ANd9GcRLgEXXkux62RGOdM_msWxvlfRvo71hTraVcQ&s\n",
      "6. https://encrypted-tbn0.gstatic.com/images?q=tbn:ANd9GcQ9pZdzYo8-4dlwa5BhNvLHtN5zMY2UvVq8NQ&s\n",
      "7. https://encrypted-tbn0.gstatic.com/images?q=tbn:ANd9GcQjmJWgHzwX0pAM7_AomYXj6m2gvaKHi_7SkQ&s\n",
      "8. https://encrypted-tbn0.gstatic.com/images?q=tbn:ANd9GcQRYpzZMYoh4ok4ZAjAuH-o5OjLQAm7wyvogQ&s\n",
      "9. https://encrypted-tbn0.gstatic.com/images?q=tbn:ANd9GcQUXfsKu3Lsc_3gZShFRUHS4bOS2m7QLhvaCg&s\n",
      "10. https://encrypted-tbn0.gstatic.com/images?q=tbn:ANd9GcSmlravcNtThGudUphKdDHAVlmLDz8FVYkFXw&s\n",
      "Top 10 Images for 'Guitar':\n",
      "1. https://www.google.com/images/branding/googlelogo/2x/googlelogo_color_92x30dp.png\n",
      "2. https://encrypted-tbn0.gstatic.com/images?q=tbn:ANd9GcTCQg4v_lNSUP700wmkNykQWFzZ6g45CkS-iVyZMuN3gNSewOo2KbkYUJJC&s\n",
      "3. https://encrypted-tbn0.gstatic.com/images?q=tbn:ANd9GcSasaevw6VJ-8fDghR8-AM9Fceu-o0iDA9C0kgBazGyipGC5IncJ7uhT_iH&s\n",
      "4. https://encrypted-tbn0.gstatic.com/images?q=tbn:ANd9GcR0CCOpGmH1Qs2Qmfv3mCHt49pyuthMKZ_PBVEy8HAqBVKnTm01o0SdZTh2&s\n",
      "5. https://fonts.gstatic.com/s/i/productlogos/googleg/v6/24px.svg\n",
      "6. https://encrypted-tbn0.gstatic.com/images?q=tbn:ANd9GcS6VXZNurpgxTTrv7bxekY7rS93rqmgnDmHrQ&s\n",
      "7. https://encrypted-tbn0.gstatic.com/images?q=tbn:ANd9GcQxtIQWv2bMiV7H1pNmUVkYOb0e1UJe1pa1ZQ&s\n",
      "8. https://encrypted-tbn0.gstatic.com/images?q=tbn:ANd9GcSri8ZrBotDubO3SFzLqI0DmygdIKRO2-vXsw&s\n",
      "9. https://encrypted-tbn0.gstatic.com/images?q=tbn:ANd9GcSBOp-8t-_Il9rIIiS2nv_ZCDr1hm1Y45ZOJw&s\n",
      "10. https://encrypted-tbn0.gstatic.com/images?q=tbn:ANd9GcT4LUOqz6oc16coPIS4dFwE0iMPdbrejxHQLg&s\n",
      "Top 10 Images for 'Cakes':\n",
      "1. https://www.google.com/images/branding/googlelogo/2x/googlelogo_color_92x30dp.png\n",
      "2. https://encrypted-tbn0.gstatic.com/images?q=tbn:ANd9GcTO_fdaR0q6b2VH4QHMQg0N1rZKlP6t1tyk_qy5WUhkflWWf_t3K3IYLfQT&s\n",
      "3. https://encrypted-tbn0.gstatic.com/images?q=tbn:ANd9GcQnFN6e_ON9feWto9qPXNSjqtLHLNMpAuKJisqBMKBQyKQD2aadIZoZVGGu&s\n",
      "4. https://encrypted-tbn0.gstatic.com/images?q=tbn:ANd9GcRSYZvebmIFDe9vcckc1TImQTsAFvZmbomC_Ow9vZJDNf1L4EOyGxNpggY9&s\n",
      "5. https://fonts.gstatic.com/s/i/productlogos/googleg/v6/24px.svg\n",
      "6. https://encrypted-tbn0.gstatic.com/images?q=tbn:ANd9GcS1ObINguvSvMLRqllNNhz4CZ7Hoqaill7xfw&s\n",
      "7. https://encrypted-tbn0.gstatic.com/images?q=tbn:ANd9GcQBnfTXs9DpaPffvPTpjsS2XrGmEqiS1PebKA&s\n",
      "8. https://encrypted-tbn0.gstatic.com/images?q=tbn:ANd9GcS1NmO8cKjqc1S0ma5TUGD6T7UtNgfpuX08Wg&s\n",
      "9. https://encrypted-tbn0.gstatic.com/images?q=tbn:ANd9GcRhyfNUzemiwyPbCm4LLj2uXwFthx5sh34FgQ&s\n",
      "10. https://encrypted-tbn0.gstatic.com/images?q=tbn:ANd9GcSCqeopC5foiYsRdxQM4tAoqJvgahz96ecR-g&s\n"
     ]
    }
   ],
   "source": [
    "for keyword in keywords:\n",
    " \n",
    "    driver1.get(\"https://images.google.com/\")\n",
    "    time.sleep(2) \n",
    "\n",
    "    search_bar = driver1.find_element(By.NAME, \"q\")\n",
    "    search_bar.send_keys(keyword)\n",
    "    search_bar.send_keys(Keys.RETURN)\n",
    "    time.sleep(2) \n",
    "\n",
    "   \n",
    "    for _ in range(3): \n",
    "        driver1.execute_script(\"window.scrollTo(0, document.body.scrollHeight);\")\n",
    "        time.sleep(2) \n",
    "\n",
    "    \n",
    "    image_elements = driver1.find_elements(By.TAG_NAME, \"img\")\n",
    "    image_urls = [element.get_attribute(\"src\") for element in image_elements]\n",
    "    image_urls = [url for url in image_urls if url and url.startswith(\"https\")]\n",
    "\n",
    "   \n",
    "    print(f\"Top 10 Images for '{keyword}':\")\n",
    "    for i, url in enumerate(image_urls[:10], 1):\n",
    "        print(f\"{i}. {url}\")"
   ]
  },
  {
   "cell_type": "code",
   "execution_count": 66,
   "id": "75e06278-fdad-424e-8ae3-21a1dc15098e",
   "metadata": {},
   "outputs": [],
   "source": [
    "driver3 = webdriver.Chrome()\n",
    "driver3.get(\"http://www.flipkart.com/\")\n"
   ]
  },
  {
   "cell_type": "code",
   "execution_count": 69,
   "id": "abf74aa2-2b8b-479b-9218-b4b3991e9155",
   "metadata": {},
   "outputs": [],
   "source": [
    "search_item = driver3.find_element(By.XPATH, '//input[@class=\"Pke_EE\"]')\n",
    "search_item.send_keys(\"Oneplus Nord\")"
   ]
  },
  {
   "cell_type": "code",
   "execution_count": 71,
   "id": "8d3a884b-9592-4948-86fc-bf13b20bfc56",
   "metadata": {},
   "outputs": [],
   "source": [
    "search = driver3.find_element(By.XPATH, '//button[@class=\"_2iLD__\"]')\n",
    "search.click()"
   ]
  },
  {
   "cell_type": "code",
   "execution_count": 72,
   "id": "aa7e8f4c-a0f3-4bf9-b7da-8e72050cd649",
   "metadata": {},
   "outputs": [],
   "source": [
    "flip_urls = []\n",
    "urls = driver3.find_elements(By.XPATH, '//a[@class=\"_1fQZEK\"]')\n",
    "for url in urls:\n",
    "    flip_urls.append(url.get_attribute(\"href\"))\n",
    "    \n",
    "#Make empty lists   \n",
    "flip_dict = {}\n",
    "flip_dict[\"Brand\"] = []\n",
    "flip_dict[\"Smartphone\"] = []\n",
    "flip_dict[\"Color\"] = []\n",
    "flip_dict[\"RAM\"] = []\n",
    "flip_dict[\"Storage(ROM)\"] = []\n",
    "flip_dict[\"Primary Camera\"] = []\n",
    "flip_dict[\"Secondary Camera\"] = []\n",
    "flip_dict[\"Display Size\"] = []\n",
    "flip_dict[\"Battery Capacity\"] = []\n",
    "flip_dict[\"Price\"] = []\n",
    "flip_dict[\"URL\"] = []"
   ]
  },
  {
   "cell_type": "code",
   "execution_count": 76,
   "id": "ac43846a-4e00-4fe9-bc96-bb97f85ee123",
   "metadata": {},
   "outputs": [],
   "source": [
    "# Scraping data from each url\n",
    "for url in flip_urls:\n",
    "    driver.get(url)                      \n",
    "    flip_dict['URL'].append(url)\n",
    "    time.sleep(2)\n",
    "    \n",
    "    try:\n",
    "        read_more = driver3.find_element(By.XPATH, '//button[@class=\"_2KpZ6l _1FH0tX\"]')     # Button for expanding the specs\n",
    "        read_more.click()\n",
    "    except NoSuchElementException:\n",
    "        print(\"Exception Occured. Moving to next page\")\n",
    "    \n",
    "    try:\n",
    "        brand = driver3.find_element(By.XPATH, '//span[@class=\"B_NuCI\"]')      # Extracting Brand from xpath\n",
    "        flip_dict[\"Brand\"].append(brand.text.split()[0])\n",
    "    except NoSuchElementException:\n",
    "        flip_dict['Brand'].append('-')\n",
    "               \n",
    "    try:\n",
    "        name = driver3.find_element(By.XPATH, '//div[@class=\"_3k-BhJ\"][1]/table/tbody/tr[3]/td[2]/ul/li')      # Extracting Name from xpath\n",
    "        flip_dict['Smartphone'].append(name.text)\n",
    "    except NoSuchElementException:\n",
    "        flip_dict['Smartphone'].append('-')\n",
    "    \n",
    "    try:\n",
    "        color = driver3.find_element(By.XPATH, '//div[@class=\"_3k-BhJ\"][1]/table/tbody/tr[4]/td[2]/ul/li')      # Extracting colour from xpath\n",
    "        flip_dict['Color'].append(color.text)\n",
    "    except NoSuchElementException:\n",
    "        flip_dict['Color'].append('-')\n",
    "    \n",
    "    try:\n",
    "        disp_chk = driver3.find_element(By.XPATH, '//div[@class=\"_3k-BhJ\"][2]/div')\n",
    "        if disp_chk.text != \"Display Features\" : raise NoSuchElementException\n",
    "        disp_size = driver.find_element(By.XPATH, '//div[@class=\"_3k-BhJ\"][2]/table[1]/tbody/tr[1]/td[2]/ul/li')  # Extracting Display Size from xpath\n",
    "        flip_dict['Display Size'].append(disp_size.text)\n",
    "    except NoSuchElementException:\n",
    "        flip_dict['Display Size'].append('-')\n",
    "\n",
    "    try:\n",
    "        ram = driver3.find_element(By.XPATH, '//div[@class=\"_3k-BhJ\"][4]/table[1]/tbody/tr[2]/td[2]/ul/li')                # Extracting RAM from xpath\n",
    "        flip_dict['RAM'].append(ram.text)\n",
    "    except NoSuchElementException:\n",
    "        flip_dict['RAM'].append('-')        \n",
    "        \n",
    "    try:\n",
    "        rom = driver3.find_element(By.XPATH, '//div[@class=\"_3k-BhJ\"][4]/table[1]/tbody/tr[1]/td[2]/ul/li')         # Extracting Storage(ROM) from xpath\n",
    "        flip_dict['Storage(ROM)'].append(rom.text)\n",
    "    except NoSuchElementException:\n",
    "        flip_dict['Storage(ROM)'].append('-')\n",
    "    \n",
    "    try:                                                                                  \n",
    "        pri_cam = driver3.find_element(By.XPATH, '//div[@class=\"_3k-BhJ\"][5]/table[1]/tbody/tr[2]/td[2]/ul/li')     # Extracting Camera from xpath\n",
    "        flip_dict['Primary Camera'].append(pri_cam.text)\n",
    "    except NoSuchElementException:\n",
    "        flip_dict['Primary Camera'].append('-')\n",
    "    \n",
    "    try:                                                                                    # Extracting Secondary Camera from xpath\n",
    "        cam_chk = driver3.find_element(By.XPATH, '//div[@class=\"_3k-BhJ\"][5]/table[1]/tbody/tr[6]/td[1]')\n",
    "        if cam_chk != \"Secondary Camera\" : \n",
    "            if driver.find_element(By.XPATH, '//div[@class=\"_3k-BhJ\"][5]/table[1]/tbody/tr[5]/td[1]').text == \"Secondary Camera\":\n",
    "                sec_cam = driver.find_element(By.XPATH, '//div[@class=\"_3k-BhJ\"][5]/table[1]/tbody/tr[5]/td[2]/ul/li')\n",
    "            else :\n",
    "                raise NoSuchElementException\n",
    "        else :\n",
    "            sec_cam = driver3.find_element(By.XPATH, '//div[@class=\"_3k-BhJ\"][5]/table[1]/tbody/tr[6]/td[2]/ul/li')\n",
    "        flip_dict['Secondary Camera'].append(sec_cam.text)\n",
    "    except NoSuchElementException:\n",
    "        flip_dict['Secondary Camera'].append('-')\n",
    "        \n",
    "    try:\n",
    "        if driver3.find_element(By.XPATH, '//div[@class=\"_3k-BhJ\"][10]/div').text != \"Battery & Power Features\" :   # Extracting Battery Capacity from xpath\n",
    "            if driver3.find_element(By.XPATH, '//div[@class=\"_3k-BhJ\"][9]/div').text == \"Battery & Power Features\" :\n",
    "                bat_chk = driver3.find_element(By.XPATH, '//div[@class=\"_3k-BhJ\"][9]/table/tbody/tr/td[1]')\n",
    "                if bat_chk.text != \"Battery Capacity\" : raise NoSuchElementException\n",
    "                bat_cap = driver3.find_element(By.XPATH, '//div[@class=\"_3k-BhJ\"][9]/table/tbody/tr/td[2]/ul/li')                \n",
    "            elif driver3.find_element(By.XPATH, '//div[@class=\"_3k-BhJ\"][8]/div').text == \"Battery & Power Features\" :     \n",
    "                bat_chk = driver3.find_element(By.XPATH, '//div[@class=\"_3k-BhJ\"][8]/table/tbody/tr/td[1]')\n",
    "                if bat_chk.text != \"Battery Capacity\" : raise NoSuchElementException\n",
    "                bat_cap = driver3.find_element(By.XPATH, '//div[@class=\"_3k-BhJ\"][8]/table/tbody/tr/td[2]/ul/li')\n",
    "            else:\n",
    "                raise NoSuchElementException\n",
    "        else :\n",
    "            bat_chk = driver3.find_element(By.XPATH, '//div[@class=\"_3k-BhJ\"][10]/table/tbody/tr/td[1]')\n",
    "            if bat_chk.text != \"Battery Capacity\" : raise NoSuchElementException\n",
    "            bat_cap = driver3.find_element(By.XPATH, '//div[@class=\"_3k-BhJ\"][10]/table/tbody/tr/td[2]/ul/li')                # Extracting Availability from xpath\n",
    "        flip_dict['Battery Capacity'].append(bat_cap.text)\n",
    "    except NoSuchElementException:\n",
    "        flip_dict['Battery Capacity'].append('-')\n",
    "    \n",
    "    try:\n",
    "        price = driver3.find_element(By.XPATH, '//div[@class=\"_30jeq3 _16Jk6d\"]')      # Extracting Price from xpath\n",
    "        flip_dict['Price'].append(price.text)\n",
    "    except NoSuchElementException:\n",
    "        flip_dict['Price'].append('-')"
   ]
  },
  {
   "cell_type": "code",
   "execution_count": 74,
   "id": "34e9e8d9-5755-4c70-b2c2-9e65b54ccf06",
   "metadata": {},
   "outputs": [
    {
     "name": "stdout",
     "output_type": "stream",
     "text": [
      "0 0 0 0\n"
     ]
    }
   ],
   "source": [
    "print(len(flip_dict[\"Brand\"]), len(flip_dict[\"Smartphone\"]), len(flip_dict[\"Price\"]), len(flip_dict['URL']))"
   ]
  },
  {
   "cell_type": "code",
   "execution_count": 75,
   "id": "83a1aaff-1e00-49c8-a86f-133a08e14c2e",
   "metadata": {},
   "outputs": [
    {
     "data": {
      "text/html": [
       "<div>\n",
       "<style scoped>\n",
       "    .dataframe tbody tr th:only-of-type {\n",
       "        vertical-align: middle;\n",
       "    }\n",
       "\n",
       "    .dataframe tbody tr th {\n",
       "        vertical-align: top;\n",
       "    }\n",
       "\n",
       "    .dataframe thead th {\n",
       "        text-align: right;\n",
       "    }\n",
       "</style>\n",
       "<table border=\"1\" class=\"dataframe\">\n",
       "  <thead>\n",
       "    <tr style=\"text-align: right;\">\n",
       "      <th></th>\n",
       "      <th>Brand</th>\n",
       "      <th>Smartphone</th>\n",
       "      <th>Color</th>\n",
       "      <th>RAM</th>\n",
       "      <th>Storage(ROM)</th>\n",
       "      <th>Primary Camera</th>\n",
       "      <th>Secondary Camera</th>\n",
       "      <th>Display Size</th>\n",
       "      <th>Battery Capacity</th>\n",
       "      <th>Price</th>\n",
       "      <th>URL</th>\n",
       "    </tr>\n",
       "  </thead>\n",
       "  <tbody>\n",
       "  </tbody>\n",
       "</table>\n",
       "</div>"
      ],
      "text/plain": [
       "Empty DataFrame\n",
       "Columns: [Brand, Smartphone, Color, RAM, Storage(ROM), Primary Camera, Secondary Camera, Display Size, Battery Capacity, Price, URL]\n",
       "Index: []"
      ]
     },
     "execution_count": 75,
     "metadata": {},
     "output_type": "execute_result"
    }
   ],
   "source": [
    "flip_df = pd.DataFrame.from_dict(flip_dict)\n",
    "flip_df"
   ]
  },
  {
   "cell_type": "code",
   "execution_count": 33,
   "id": "a42080db-19f1-4cb4-95f6-70562e2177bb",
   "metadata": {},
   "outputs": [],
   "source": [
    "driver4 = webdriver.Chrome()\n",
    "\n",
    "# Load the webpage\n",
    "driver4.get(\"https://maps.google.com/\")"
   ]
  },
  {
   "cell_type": "code",
   "execution_count": 51,
   "id": "94e9ad77-da2e-4e4c-b445-249c54ec54d2",
   "metadata": {},
   "outputs": [
    {
     "name": "stdout",
     "output_type": "stream",
     "text": [
      "Latitude = 28.5275544, Longitude = 77.0441708\n"
     ]
    }
   ],
   "source": [
    "import re\n",
    "search_city = driver4.find_element(By.ID, \"searchboxinput\")\n",
    "search_city.send_keys(\"New Delhi\") \n",
    "search = driver4.find_element(By.ID, \"searchbox-searchbutton\")\n",
    "search.click() \n",
    "time.sleep(3)\n",
    "\n",
    "\n",
    "url_string = driver4.current_url\n",
    "    \n",
    "cords = re.findall(r'@(.*)data',url_string)\n",
    "    \n",
    "if len(cords):\n",
    "    cordinates = cords[0].split(\",\")\n",
    "    if len(cordinates)>=2:\n",
    "        lat = cordinates[0]\n",
    "        long = cordinates[1]\n",
    "    print(\"Latitude = {}, Longitude = {}\".format(lat, long))"
   ]
  },
  {
   "cell_type": "code",
   "execution_count": 45,
   "id": "1ddd1c93-0583-4491-bfd9-a73d3e977525",
   "metadata": {},
   "outputs": [],
   "source": [
    "driver5 = webdriver.Chrome()\n",
    "\n",
    "# Load the webpage\n",
    "driver5.get(\"https://www.digit.in/\")"
   ]
  },
  {
   "cell_type": "code",
   "execution_count": 46,
   "id": "af879621-fb76-4a0b-82fe-565c748514a2",
   "metadata": {},
   "outputs": [],
   "source": [
    "top_10 = driver5.find_element(By.XPATH, '/html/body/div[1]/header/div/div[1]/div/div/nav/ul/li[3]')\n",
    "top_10.click()\n"
   ]
  },
  {
   "cell_type": "code",
   "execution_count": 47,
   "id": "37cc8a6b-6e0c-49b9-a585-1a50d9e9a07c",
   "metadata": {},
   "outputs": [],
   "source": [
    "laptops = driver5.find_element(By.XPATH, '/html/body/div[1]/div[3]/div/div[2]/div[1]/div[4]/div[1]/h3')\n",
    "laptops.click()"
   ]
  },
  {
   "cell_type": "code",
   "execution_count": 48,
   "id": "e6f27059-74db-47a1-a9d3-1fa69268a2c2",
   "metadata": {},
   "outputs": [],
   "source": [
    "name = []\n",
    "price = []\n",
    "OS = []\n",
    "display = []\n",
    "processor = []\n",
    "HDD = []\n",
    "RAM = []\n",
    "weight = []\n",
    "dimension = []\n",
    "GPU = []"
   ]
  },
  {
   "cell_type": "code",
   "execution_count": 49,
   "id": "e2444fdc-798e-4541-91ad-3da868f061d9",
   "metadata": {},
   "outputs": [],
   "source": [
    "names=driver5.find_elements(By.XPATH, \"//span[@class='datahreflink']/h3\")\n",
    "for i in names:\n",
    "    name.append(i.text)\n",
    "\n",
    "time.sleep(1)\n",
    "\n",
    "prices=driver5.find_elements(By.XPATH, \"//table[@id='summtable']//tr//td[3]\")\n",
    "for i in prices:\n",
    "    price.append(i.text)    \n",
    "    \n",
    "time.sleep(1)\n",
    "\n",
    "os=driver5.find_elements(By.XPATH, \"//div[@class='product-detail']/div/ul/li[1]/div/div\")\n",
    "for i in os:\n",
    "    OS.append(i.text)\n",
    "\n",
    "time.sleep(1)\n",
    "\n",
    "displays=driver5.find_elements(By.XPATH, \"//div[@class='product-detail']/div/ul/li[2]/div/div\")\n",
    "for i in displays:\n",
    "    display.append(i.text)\n",
    "\n",
    "time.sleep(1)\n",
    "\n",
    "processors=driver5.find_elements(By.XPATH, \"//div[@class='product-detail']/div/ul/li[4]/div/div\")\n",
    "for i in processors:\n",
    "    processor.append(i.text)\n",
    "\n",
    "time.sleep(1)\n",
    "\n",
    "memory=driver5.find_elements(By.XPATH, \"//div[@class='product-detail']/div/ul/li[5]/div/div\")# extrat HDD and RAM form xpath\n",
    "for i in memory:\n",
    "    HDD.append(i.text.split(\"/\")[0])\n",
    "    RAM.append(i.text.split(\"/\")[1])\n",
    "\n",
    "time.sleep(1)\n",
    "\n",
    "weights=driver5.find_elements(By.XPATH, \"//div[@class='Spcs-details'][1]/table/tbody/tr[7]/td[3]\")# extrat weight form xpath\n",
    "for i in weights:\n",
    "    weight.append(i.text)\n",
    "\n",
    "time.sleep(1)\n",
    "\n",
    "dimension=[]\n",
    "dimensions=driver5.find_elements(By.XPATH, \"//div[@class='Spcs-details'][1]/table/tbody/tr[8]/td[3]\") \n",
    "for i in dimensions:\n",
    "    dimension.append(i.text)\n",
    "\n",
    "time.sleep(1)\n",
    "\n",
    "GPUs=driver5.find_elements(By.XPATH, \"//div[@class='Spcs-details'][1]/table/tbody/tr[6]/td[3]\") \n",
    "for i in GPUs:\n",
    "    GPU.append(i.text)\n",
    "\n",
    "time.sleep(1)"
   ]
  },
  {
   "cell_type": "code",
   "execution_count": 50,
   "id": "94c1ed82-0061-4152-bdcc-66cd55103c0c",
   "metadata": {},
   "outputs": [
    {
     "name": "stdout",
     "output_type": "stream",
     "text": [
      "0 0 0 0 0 0 0 0 0 0\n"
     ]
    }
   ],
   "source": [
    "print(len(name), len(price), len(OS),len(display),len(processor),len(HDD),len(RAM),len(weight),len(dimension),len(GPU))"
   ]
  },
  {
   "cell_type": "code",
   "execution_count": 51,
   "id": "f71626d4-23bd-4dbe-aeae-461514705283",
   "metadata": {},
   "outputs": [
    {
     "data": {
      "text/html": [
       "<div>\n",
       "<style scoped>\n",
       "    .dataframe tbody tr th:only-of-type {\n",
       "        vertical-align: middle;\n",
       "    }\n",
       "\n",
       "    .dataframe tbody tr th {\n",
       "        vertical-align: top;\n",
       "    }\n",
       "\n",
       "    .dataframe thead th {\n",
       "        text-align: right;\n",
       "    }\n",
       "</style>\n",
       "<table border=\"1\" class=\"dataframe\">\n",
       "  <thead>\n",
       "    <tr style=\"text-align: right;\">\n",
       "      <th></th>\n",
       "      <th>Name</th>\n",
       "      <th>Price</th>\n",
       "      <th>OS</th>\n",
       "      <th>Display</th>\n",
       "      <th>Processor</th>\n",
       "      <th>HDD</th>\n",
       "      <th>RAM</th>\n",
       "      <th>Weight</th>\n",
       "      <th>Dimension</th>\n",
       "      <th>Graphical processor</th>\n",
       "    </tr>\n",
       "  </thead>\n",
       "  <tbody>\n",
       "  </tbody>\n",
       "</table>\n",
       "</div>"
      ],
      "text/plain": [
       "Empty DataFrame\n",
       "Columns: [Name, Price, OS, Display, Processor, HDD, RAM, Weight, Dimension, Graphical processor]\n",
       "Index: []"
      ]
     },
     "execution_count": 51,
     "metadata": {},
     "output_type": "execute_result"
    }
   ],
   "source": [
    "df=pd.DataFrame({\"Name\":name,\n",
    "                \"Price\":price,\n",
    "                \"OS\":OS,\n",
    "                \"Display\":display,\n",
    "                \"Processor\":processor,\n",
    "                \"HDD\":HDD,\n",
    "                \"RAM\":RAM,\n",
    "                \"Weight\":weight,\n",
    "                \"Dimension\":dimension,\n",
    "                \"Graphical processor\":GPU})\n",
    "df"
   ]
  },
  {
   "cell_type": "raw",
   "id": "4a045806-ad60-4204-a4e8-c83b3fd01e17",
   "metadata": {},
   "source": [
    "7.Write a python program to scrape the details for all billionaires from www.forbes.com. Details to be scrapped: \n",
    "“Rank”, “Name”, “Net worth”, “Age”, “Citizenship”, “Source”, “Industry”"
   ]
  },
  {
   "cell_type": "code",
   "execution_count": 44,
   "id": "97f37a1f-ab2c-4113-a32a-7d340ee0df49",
   "metadata": {},
   "outputs": [],
   "source": [
    "driver6 = webdriver.Chrome()\n",
    "\n",
    "# Load the webpage\n",
    "driver6.get(\"http://www.forbes.com/\")"
   ]
  },
  {
   "cell_type": "code",
   "execution_count": 45,
   "id": "da2659c3-3460-44c2-971c-f93e34b93a6d",
   "metadata": {},
   "outputs": [],
   "source": [
    "button = driver6.find_element(By.XPATH,'/html/body/div[1]/header/div/header/div[1]/div[1]')\n",
    "button.click()"
   ]
  },
  {
   "cell_type": "code",
   "execution_count": 46,
   "id": "dbf99eff-c003-4563-ba07-70ed55c77af2",
   "metadata": {},
   "outputs": [],
   "source": [
    "button1 = driver6.find_element(By.XPATH, \"/html/body/div[1]/header/div/header/div[1]/div[1]/div[2]/ul/li[2]/div[1]\")\n",
    "button1.click()\n"
   ]
  },
  {
   "cell_type": "code",
   "execution_count": 47,
   "id": "9ad4064d-a8f9-468a-b951-c5f4a4628094",
   "metadata": {},
   "outputs": [],
   "source": [
    "world_billionaires = driver6.find_element(By.XPATH, \"/html/body/div[1]/div/main/div[2]/section/div[2]/div/div/div[1]/div/div[2]/div/div/a/h2\")\n",
    "world_billionaires.click()"
   ]
  },
  {
   "cell_type": "code",
   "execution_count": 48,
   "id": "4947d230-da61-4c5f-9a0e-d483cae34ce4",
   "metadata": {},
   "outputs": [],
   "source": [
    "#create lists\n",
    "rank = [] \n",
    "name = [] \n",
    "net_worth = [] \n",
    "age = []\n",
    "country = [] \n",
    "source = []\n",
    "industry = []"
   ]
  },
  {
   "cell_type": "code",
   "execution_count": 67,
   "id": "c8327652-ed61-4ea2-bf0e-358f808267e3",
   "metadata": {},
   "outputs": [],
   "source": [
    "while(True):\n",
    "\n",
    "    ranks= driver6.find_elements(By.XPATH, \"//div[@class='Table_rank___YBhk Table_dataCell__2QCve']\")\n",
    "    for i in ranks:\n",
    "        rank.append(i.text)\n",
    "    time.sleep(1)\n",
    "    \n",
    "    names= driver6.find_elements(By.XPATH, \"//div[@class='TableRow_row__L-0Km']//div[2]/div\")\n",
    "    for i in names:\n",
    "        name.append(i.text)\n",
    "    time.sleep(1)\n",
    "\n",
    "    net_worths= driver6.find_elements(By.XPATH, \"//div[@class='TableRow_row__L-0Km']//div[3]/div\")\n",
    "    for i in net_worths:\n",
    "        net_worth.append(i.text)\n",
    "    time.sleep(1)     \n",
    "    \n",
    "    ages= driver6.find_elements(By.XPATH, \"//div[@class='TableRow_row__L-0Km']//div[4]/div\")\n",
    "    for i in ages:\n",
    "        age.append(i.text)   \n",
    "    time.sleep(1)\n",
    "      \n",
    "    countries= driver6.find_elements(By.XPATH, \"//div[@class='TableRow_row__L-0Km']//div[5]\")\n",
    "    for i in countries:\n",
    "        country.append(i.text)\n",
    "    time.sleep(1)\n",
    "    \n",
    "    sources= driver6.find_elements(By.XPATH, \"//div[@class='TableRow_row__L-0Km']//div[6]/div/span\")\n",
    "    for i in sources:\n",
    "        source.append(i.text)    \n",
    "    time.sleep(1)\n",
    "        \n",
    "    industries= driver6.find_elements(By.XPATH, \"//div[@class='TableRow_row__L-0Km']//div[7]/div\")\n",
    "    for i in industries:\n",
    "        industry.append(i.text)    \n",
    "    time.sleep(1)   \n",
    "        \n",
    "    try:\n",
    "        next_button = driver6.find_element(By.XPATH, \"/html/body/div[1]/div[2]/div[3]/div[2]/div[2]/div[2]/div[2]/div[2]/div[1]/button[2]/div/span[1]\")\n",
    "        next_button.click()\n",
    "    except:\n",
    "        break  "
   ]
  },
  {
   "cell_type": "code",
   "execution_count": 69,
   "id": "721eaca4-2625-4866-ba14-e1c382c60e62",
   "metadata": {},
   "outputs": [
    {
     "ename": "ValueError",
     "evalue": "All arrays must be of the same length",
     "output_type": "error",
     "traceback": [
      "\u001b[1;31m---------------------------------------------------------------------------\u001b[0m",
      "\u001b[1;31mValueError\u001b[0m                                Traceback (most recent call last)",
      "Cell \u001b[1;32mIn[69], line 3\u001b[0m\n\u001b[0;32m      1\u001b[0m time\u001b[38;5;241m.\u001b[39msleep(\u001b[38;5;241m2\u001b[39m)        \n\u001b[0;32m      2\u001b[0m \u001b[38;5;66;03m#creating dataframe\u001b[39;00m\n\u001b[1;32m----> 3\u001b[0m df\u001b[38;5;241m=\u001b[39mpd\u001b[38;5;241m.\u001b[39mDataFrame({\u001b[38;5;124m'\u001b[39m\u001b[38;5;124mRank\u001b[39m\u001b[38;5;124m'\u001b[39m:rank,\n\u001b[0;32m      4\u001b[0m                 \u001b[38;5;124m'\u001b[39m\u001b[38;5;124mName\u001b[39m\u001b[38;5;124m'\u001b[39m:name,\n\u001b[0;32m      5\u001b[0m                 \u001b[38;5;124m'\u001b[39m\u001b[38;5;124mNet Worth\u001b[39m\u001b[38;5;124m'\u001b[39m:net_worth,\n\u001b[0;32m      6\u001b[0m                 \u001b[38;5;124m'\u001b[39m\u001b[38;5;124mAge\u001b[39m\u001b[38;5;124m'\u001b[39m:age,\n\u001b[0;32m      7\u001b[0m                 \u001b[38;5;124m'\u001b[39m\u001b[38;5;124mCountry of Citizenship\u001b[39m\u001b[38;5;124m'\u001b[39m:country,\n\u001b[0;32m      8\u001b[0m                 \u001b[38;5;124m'\u001b[39m\u001b[38;5;124mSource\u001b[39m\u001b[38;5;124m'\u001b[39m:source,\n\u001b[0;32m      9\u001b[0m                 \u001b[38;5;124m'\u001b[39m\u001b[38;5;124mIndustry\u001b[39m\u001b[38;5;124m'\u001b[39m:industry})\n",
      "File \u001b[1;32mD:\\Anacodna 25.05.2024\\Lib\\site-packages\\pandas\\core\\frame.py:733\u001b[0m, in \u001b[0;36mDataFrame.__init__\u001b[1;34m(self, data, index, columns, dtype, copy)\u001b[0m\n\u001b[0;32m    727\u001b[0m     mgr \u001b[38;5;241m=\u001b[39m \u001b[38;5;28mself\u001b[39m\u001b[38;5;241m.\u001b[39m_init_mgr(\n\u001b[0;32m    728\u001b[0m         data, axes\u001b[38;5;241m=\u001b[39m{\u001b[38;5;124m\"\u001b[39m\u001b[38;5;124mindex\u001b[39m\u001b[38;5;124m\"\u001b[39m: index, \u001b[38;5;124m\"\u001b[39m\u001b[38;5;124mcolumns\u001b[39m\u001b[38;5;124m\"\u001b[39m: columns}, dtype\u001b[38;5;241m=\u001b[39mdtype, copy\u001b[38;5;241m=\u001b[39mcopy\n\u001b[0;32m    729\u001b[0m     )\n\u001b[0;32m    731\u001b[0m \u001b[38;5;28;01melif\u001b[39;00m \u001b[38;5;28misinstance\u001b[39m(data, \u001b[38;5;28mdict\u001b[39m):\n\u001b[0;32m    732\u001b[0m     \u001b[38;5;66;03m# GH#38939 de facto copy defaults to False only in non-dict cases\u001b[39;00m\n\u001b[1;32m--> 733\u001b[0m     mgr \u001b[38;5;241m=\u001b[39m dict_to_mgr(data, index, columns, dtype\u001b[38;5;241m=\u001b[39mdtype, copy\u001b[38;5;241m=\u001b[39mcopy, typ\u001b[38;5;241m=\u001b[39mmanager)\n\u001b[0;32m    734\u001b[0m \u001b[38;5;28;01melif\u001b[39;00m \u001b[38;5;28misinstance\u001b[39m(data, ma\u001b[38;5;241m.\u001b[39mMaskedArray):\n\u001b[0;32m    735\u001b[0m     \u001b[38;5;28;01mfrom\u001b[39;00m \u001b[38;5;21;01mnumpy\u001b[39;00m\u001b[38;5;21;01m.\u001b[39;00m\u001b[38;5;21;01mma\u001b[39;00m \u001b[38;5;28;01mimport\u001b[39;00m mrecords\n",
      "File \u001b[1;32mD:\\Anacodna 25.05.2024\\Lib\\site-packages\\pandas\\core\\internals\\construction.py:503\u001b[0m, in \u001b[0;36mdict_to_mgr\u001b[1;34m(data, index, columns, dtype, typ, copy)\u001b[0m\n\u001b[0;32m    499\u001b[0m     \u001b[38;5;28;01melse\u001b[39;00m:\n\u001b[0;32m    500\u001b[0m         \u001b[38;5;66;03m# dtype check to exclude e.g. range objects, scalars\u001b[39;00m\n\u001b[0;32m    501\u001b[0m         arrays \u001b[38;5;241m=\u001b[39m [x\u001b[38;5;241m.\u001b[39mcopy() \u001b[38;5;28;01mif\u001b[39;00m \u001b[38;5;28mhasattr\u001b[39m(x, \u001b[38;5;124m\"\u001b[39m\u001b[38;5;124mdtype\u001b[39m\u001b[38;5;124m\"\u001b[39m) \u001b[38;5;28;01melse\u001b[39;00m x \u001b[38;5;28;01mfor\u001b[39;00m x \u001b[38;5;129;01min\u001b[39;00m arrays]\n\u001b[1;32m--> 503\u001b[0m \u001b[38;5;28;01mreturn\u001b[39;00m arrays_to_mgr(arrays, columns, index, dtype\u001b[38;5;241m=\u001b[39mdtype, typ\u001b[38;5;241m=\u001b[39mtyp, consolidate\u001b[38;5;241m=\u001b[39mcopy)\n",
      "File \u001b[1;32mD:\\Anacodna 25.05.2024\\Lib\\site-packages\\pandas\\core\\internals\\construction.py:114\u001b[0m, in \u001b[0;36marrays_to_mgr\u001b[1;34m(arrays, columns, index, dtype, verify_integrity, typ, consolidate)\u001b[0m\n\u001b[0;32m    111\u001b[0m \u001b[38;5;28;01mif\u001b[39;00m verify_integrity:\n\u001b[0;32m    112\u001b[0m     \u001b[38;5;66;03m# figure out the index, if necessary\u001b[39;00m\n\u001b[0;32m    113\u001b[0m     \u001b[38;5;28;01mif\u001b[39;00m index \u001b[38;5;129;01mis\u001b[39;00m \u001b[38;5;28;01mNone\u001b[39;00m:\n\u001b[1;32m--> 114\u001b[0m         index \u001b[38;5;241m=\u001b[39m _extract_index(arrays)\n\u001b[0;32m    115\u001b[0m     \u001b[38;5;28;01melse\u001b[39;00m:\n\u001b[0;32m    116\u001b[0m         index \u001b[38;5;241m=\u001b[39m ensure_index(index)\n",
      "File \u001b[1;32mD:\\Anacodna 25.05.2024\\Lib\\site-packages\\pandas\\core\\internals\\construction.py:677\u001b[0m, in \u001b[0;36m_extract_index\u001b[1;34m(data)\u001b[0m\n\u001b[0;32m    675\u001b[0m lengths \u001b[38;5;241m=\u001b[39m \u001b[38;5;28mlist\u001b[39m(\u001b[38;5;28mset\u001b[39m(raw_lengths))\n\u001b[0;32m    676\u001b[0m \u001b[38;5;28;01mif\u001b[39;00m \u001b[38;5;28mlen\u001b[39m(lengths) \u001b[38;5;241m>\u001b[39m \u001b[38;5;241m1\u001b[39m:\n\u001b[1;32m--> 677\u001b[0m     \u001b[38;5;28;01mraise\u001b[39;00m \u001b[38;5;167;01mValueError\u001b[39;00m(\u001b[38;5;124m\"\u001b[39m\u001b[38;5;124mAll arrays must be of the same length\u001b[39m\u001b[38;5;124m\"\u001b[39m)\n\u001b[0;32m    679\u001b[0m \u001b[38;5;28;01mif\u001b[39;00m have_dicts:\n\u001b[0;32m    680\u001b[0m     \u001b[38;5;28;01mraise\u001b[39;00m \u001b[38;5;167;01mValueError\u001b[39;00m(\n\u001b[0;32m    681\u001b[0m         \u001b[38;5;124m\"\u001b[39m\u001b[38;5;124mMixing dicts with non-Series may lead to ambiguous ordering.\u001b[39m\u001b[38;5;124m\"\u001b[39m\n\u001b[0;32m    682\u001b[0m     )\n",
      "\u001b[1;31mValueError\u001b[0m: All arrays must be of the same length"
     ]
    }
   ],
   "source": [
    "time.sleep(2)        \n",
    "#creating dataframe\n",
    "df=pd.DataFrame({'Rank':rank,\n",
    "                'Name':name,\n",
    "                'Net Worth':net_worth,\n",
    "                'Age':age,\n",
    "                'Country of Citizenship':country,\n",
    "                'Source':source,\n",
    "                'Industry':industry})"
   ]
  },
  {
   "cell_type": "code",
   "execution_count": 71,
   "id": "7beb903c-b76e-4f9e-92bd-e7c14c814dab",
   "metadata": {},
   "outputs": [
    {
     "data": {
      "text/html": [
       "<div>\n",
       "<style scoped>\n",
       "    .dataframe tbody tr th:only-of-type {\n",
       "        vertical-align: middle;\n",
       "    }\n",
       "\n",
       "    .dataframe tbody tr th {\n",
       "        vertical-align: top;\n",
       "    }\n",
       "\n",
       "    .dataframe thead th {\n",
       "        text-align: right;\n",
       "    }\n",
       "</style>\n",
       "<table border=\"1\" class=\"dataframe\">\n",
       "  <thead>\n",
       "    <tr style=\"text-align: right;\">\n",
       "      <th></th>\n",
       "      <th>Rank</th>\n",
       "      <th>Name</th>\n",
       "      <th>Net Worth</th>\n",
       "    </tr>\n",
       "  </thead>\n",
       "  <tbody>\n",
       "    <tr>\n",
       "      <th>0</th>\n",
       "      <td>1.</td>\n",
       "      <td>Bernard Arnault &amp; family</td>\n",
       "      <td>$233 B</td>\n",
       "    </tr>\n",
       "    <tr>\n",
       "      <th>1</th>\n",
       "      <td>1.</td>\n",
       "      <td>Bernard Arnault &amp; family</td>\n",
       "      <td>$233 B</td>\n",
       "    </tr>\n",
       "  </tbody>\n",
       "</table>\n",
       "</div>"
      ],
      "text/plain": [
       "  Rank                      Name Net Worth\n",
       "0   1.  Bernard Arnault & family    $233 B\n",
       "1   1.  Bernard Arnault & family    $233 B"
      ]
     },
     "execution_count": 71,
     "metadata": {},
     "output_type": "execute_result"
    }
   ],
   "source": [
    "df"
   ]
  },
  {
   "cell_type": "code",
   "execution_count": null,
   "id": "221f76e9-6ccf-4c4b-9932-bf0d1a1265d1",
   "metadata": {},
   "outputs": [],
   "source": [
    "8.Write a program to extract at least 500 Comments, Comment upvote and time when comment was posted \n",
    "from any YouTube Video."
   ]
  },
  {
   "cell_type": "code",
   "execution_count": 97,
   "id": "bc4c9d19-4206-4989-add2-e000700cbb49",
   "metadata": {},
   "outputs": [],
   "source": [
    "driver7 = webdriver.Chrome()\n",
    "\n",
    "# Load the webpage\n",
    "driver7.get(\"https://www.youtube.com/\")"
   ]
  },
  {
   "cell_type": "code",
   "execution_count": 98,
   "id": "e5446c02-f979-41e8-b42a-53cc88ba0ddd",
   "metadata": {},
   "outputs": [],
   "source": [
    "search_bar = driver7.find_element(By.XPATH, '/html/body/ytd-app/div[1]/div/ytd-masthead/div[4]/div[2]/ytd-searchbox/form/div[1]/div[1]/input')\n",
    "search_bar.send_keys(\"Devara\") \n",
    "time.sleep(1)\n",
    "\n",
    "#clicking on search button\n",
    "search_btn = driver7.find_element(By.ID, \"search-icon-legacy\")  \n",
    "search_btn.click()\n",
    "time.sleep(4)\n",
    "\n",
    "#clicking on first video\n",
    "link_click = driver7.find_element(By.XPATH, \"//a[@class='yt-simple-endpoint style-scope ytd-video-renderer']\")\n",
    "link_click.click()"
   ]
  },
  {
   "cell_type": "code",
   "execution_count": 99,
   "id": "a2a51d8d-9df7-4eb0-9fc1-dca7dd7c59e8",
   "metadata": {},
   "outputs": [],
   "source": [
    "for _ in range(1000):\n",
    "    driver7.execute_script(\"window.scrollBy(0,5000)\")"
   ]
  },
  {
   "cell_type": "code",
   "execution_count": 105,
   "id": "46d6c2ea-5663-4c04-b31d-8b4b7082f973",
   "metadata": {},
   "outputs": [],
   "source": [
    "comment = []\n",
    "comment_time = []\n",
    "up_vote = []"
   ]
  },
  {
   "cell_type": "code",
   "execution_count": 128,
   "id": "446fa8a4-cc1e-417f-9c7a-745890e6158f",
   "metadata": {},
   "outputs": [],
   "source": [
    "comment = driver7.find_elements(By.ID, \"content-text\")\n",
    "for i in comments:\n",
    "    if i.text is None:\n",
    "        comment.append(\"--\")\n",
    "    else:\n",
    "        comment.append(i.text)\n",
    "time.sleep(5)\n",
    "\n",
    "# scrape time when comment was posted\n",
    "times = driver7.find_elements(By.XPATH, \".//a[contains(text(),'ago')]\")\n",
    "for i in times:\n",
    "    comment_time.append(i.text)\n",
    "\n",
    "for i in range(0,len(comment_time),2):\n",
    "    comment_time.append(comment_time[i])\n",
    "time.sleep(5)\n",
    "    \n",
    "# scrape the comment likes\n",
    "up = driver7.find_elements(By.XPATH, \".//span[@class='style-scope ytd-comment-action-buttons-renderer']\")\n",
    "for i in up:\n",
    "    up_vote.append(i.text)\n"
   ]
  },
  {
   "cell_type": "code",
   "execution_count": 129,
   "id": "fa7d0f65-d949-42fd-b018-b620a2f1f5af",
   "metadata": {},
   "outputs": [
    {
     "name": "stdout",
     "output_type": "stream",
     "text": [
      "720 2970 360\n"
     ]
    }
   ],
   "source": [
    "print(len(comment),len(comment_time),len(up_vote))"
   ]
  },
  {
   "cell_type": "code",
   "execution_count": 130,
   "id": "03cf4d99-bb42-484f-a458-4dde2f9f545a",
   "metadata": {},
   "outputs": [
    {
     "ename": "ValueError",
     "evalue": "All arrays must be of the same length",
     "output_type": "error",
     "traceback": [
      "\u001b[1;31m---------------------------------------------------------------------------\u001b[0m",
      "\u001b[1;31mValueError\u001b[0m                                Traceback (most recent call last)",
      "Cell \u001b[1;32mIn[130], line 1\u001b[0m\n\u001b[1;32m----> 1\u001b[0m df1 \u001b[38;5;241m=\u001b[39m pd\u001b[38;5;241m.\u001b[39mDataFrame({\u001b[38;5;124m'\u001b[39m\u001b[38;5;124mComment\u001b[39m\u001b[38;5;124m'\u001b[39m:comment,\n\u001b[0;32m      2\u001b[0m                 \u001b[38;5;124m'\u001b[39m\u001b[38;5;124mComment Time\u001b[39m\u001b[38;5;124m'\u001b[39m:comment_time,\n\u001b[0;32m      3\u001b[0m                 \u001b[38;5;124m'\u001b[39m\u001b[38;5;124mUp Vote\u001b[39m\u001b[38;5;124m'\u001b[39m:up_vote})\n",
      "File \u001b[1;32mD:\\Anacodna 25.05.2024\\Lib\\site-packages\\pandas\\core\\frame.py:733\u001b[0m, in \u001b[0;36mDataFrame.__init__\u001b[1;34m(self, data, index, columns, dtype, copy)\u001b[0m\n\u001b[0;32m    727\u001b[0m     mgr \u001b[38;5;241m=\u001b[39m \u001b[38;5;28mself\u001b[39m\u001b[38;5;241m.\u001b[39m_init_mgr(\n\u001b[0;32m    728\u001b[0m         data, axes\u001b[38;5;241m=\u001b[39m{\u001b[38;5;124m\"\u001b[39m\u001b[38;5;124mindex\u001b[39m\u001b[38;5;124m\"\u001b[39m: index, \u001b[38;5;124m\"\u001b[39m\u001b[38;5;124mcolumns\u001b[39m\u001b[38;5;124m\"\u001b[39m: columns}, dtype\u001b[38;5;241m=\u001b[39mdtype, copy\u001b[38;5;241m=\u001b[39mcopy\n\u001b[0;32m    729\u001b[0m     )\n\u001b[0;32m    731\u001b[0m \u001b[38;5;28;01melif\u001b[39;00m \u001b[38;5;28misinstance\u001b[39m(data, \u001b[38;5;28mdict\u001b[39m):\n\u001b[0;32m    732\u001b[0m     \u001b[38;5;66;03m# GH#38939 de facto copy defaults to False only in non-dict cases\u001b[39;00m\n\u001b[1;32m--> 733\u001b[0m     mgr \u001b[38;5;241m=\u001b[39m dict_to_mgr(data, index, columns, dtype\u001b[38;5;241m=\u001b[39mdtype, copy\u001b[38;5;241m=\u001b[39mcopy, typ\u001b[38;5;241m=\u001b[39mmanager)\n\u001b[0;32m    734\u001b[0m \u001b[38;5;28;01melif\u001b[39;00m \u001b[38;5;28misinstance\u001b[39m(data, ma\u001b[38;5;241m.\u001b[39mMaskedArray):\n\u001b[0;32m    735\u001b[0m     \u001b[38;5;28;01mfrom\u001b[39;00m \u001b[38;5;21;01mnumpy\u001b[39;00m\u001b[38;5;21;01m.\u001b[39;00m\u001b[38;5;21;01mma\u001b[39;00m \u001b[38;5;28;01mimport\u001b[39;00m mrecords\n",
      "File \u001b[1;32mD:\\Anacodna 25.05.2024\\Lib\\site-packages\\pandas\\core\\internals\\construction.py:503\u001b[0m, in \u001b[0;36mdict_to_mgr\u001b[1;34m(data, index, columns, dtype, typ, copy)\u001b[0m\n\u001b[0;32m    499\u001b[0m     \u001b[38;5;28;01melse\u001b[39;00m:\n\u001b[0;32m    500\u001b[0m         \u001b[38;5;66;03m# dtype check to exclude e.g. range objects, scalars\u001b[39;00m\n\u001b[0;32m    501\u001b[0m         arrays \u001b[38;5;241m=\u001b[39m [x\u001b[38;5;241m.\u001b[39mcopy() \u001b[38;5;28;01mif\u001b[39;00m \u001b[38;5;28mhasattr\u001b[39m(x, \u001b[38;5;124m\"\u001b[39m\u001b[38;5;124mdtype\u001b[39m\u001b[38;5;124m\"\u001b[39m) \u001b[38;5;28;01melse\u001b[39;00m x \u001b[38;5;28;01mfor\u001b[39;00m x \u001b[38;5;129;01min\u001b[39;00m arrays]\n\u001b[1;32m--> 503\u001b[0m \u001b[38;5;28;01mreturn\u001b[39;00m arrays_to_mgr(arrays, columns, index, dtype\u001b[38;5;241m=\u001b[39mdtype, typ\u001b[38;5;241m=\u001b[39mtyp, consolidate\u001b[38;5;241m=\u001b[39mcopy)\n",
      "File \u001b[1;32mD:\\Anacodna 25.05.2024\\Lib\\site-packages\\pandas\\core\\internals\\construction.py:114\u001b[0m, in \u001b[0;36marrays_to_mgr\u001b[1;34m(arrays, columns, index, dtype, verify_integrity, typ, consolidate)\u001b[0m\n\u001b[0;32m    111\u001b[0m \u001b[38;5;28;01mif\u001b[39;00m verify_integrity:\n\u001b[0;32m    112\u001b[0m     \u001b[38;5;66;03m# figure out the index, if necessary\u001b[39;00m\n\u001b[0;32m    113\u001b[0m     \u001b[38;5;28;01mif\u001b[39;00m index \u001b[38;5;129;01mis\u001b[39;00m \u001b[38;5;28;01mNone\u001b[39;00m:\n\u001b[1;32m--> 114\u001b[0m         index \u001b[38;5;241m=\u001b[39m _extract_index(arrays)\n\u001b[0;32m    115\u001b[0m     \u001b[38;5;28;01melse\u001b[39;00m:\n\u001b[0;32m    116\u001b[0m         index \u001b[38;5;241m=\u001b[39m ensure_index(index)\n",
      "File \u001b[1;32mD:\\Anacodna 25.05.2024\\Lib\\site-packages\\pandas\\core\\internals\\construction.py:677\u001b[0m, in \u001b[0;36m_extract_index\u001b[1;34m(data)\u001b[0m\n\u001b[0;32m    675\u001b[0m lengths \u001b[38;5;241m=\u001b[39m \u001b[38;5;28mlist\u001b[39m(\u001b[38;5;28mset\u001b[39m(raw_lengths))\n\u001b[0;32m    676\u001b[0m \u001b[38;5;28;01mif\u001b[39;00m \u001b[38;5;28mlen\u001b[39m(lengths) \u001b[38;5;241m>\u001b[39m \u001b[38;5;241m1\u001b[39m:\n\u001b[1;32m--> 677\u001b[0m     \u001b[38;5;28;01mraise\u001b[39;00m \u001b[38;5;167;01mValueError\u001b[39;00m(\u001b[38;5;124m\"\u001b[39m\u001b[38;5;124mAll arrays must be of the same length\u001b[39m\u001b[38;5;124m\"\u001b[39m)\n\u001b[0;32m    679\u001b[0m \u001b[38;5;28;01mif\u001b[39;00m have_dicts:\n\u001b[0;32m    680\u001b[0m     \u001b[38;5;28;01mraise\u001b[39;00m \u001b[38;5;167;01mValueError\u001b[39;00m(\n\u001b[0;32m    681\u001b[0m         \u001b[38;5;124m\"\u001b[39m\u001b[38;5;124mMixing dicts with non-Series may lead to ambiguous ordering.\u001b[39m\u001b[38;5;124m\"\u001b[39m\n\u001b[0;32m    682\u001b[0m     )\n",
      "\u001b[1;31mValueError\u001b[0m: All arrays must be of the same length"
     ]
    }
   ],
   "source": [
    "df1 = pd.DataFrame({'Comment':comment,\n",
    "                'Comment Time':comment_time,\n",
    "                'Up Vote':up_vote})"
   ]
  },
  {
   "cell_type": "raw",
   "id": "474c4362-3729-4b8f-87cd-c86280009b1b",
   "metadata": {},
   "source": [
    "9.Write a python program to scrape a data for all available Hostels from https://www.hostelworld.com/ in \n",
    "“London” location. You have to scrape hostel name, distance from city centre, ratings, total reviews, overall \n",
    "reviews, privates from price, dorms from price, facilities and property description."
   ]
  },
  {
   "cell_type": "code",
   "execution_count": 133,
   "id": "2c92dc23-decc-475a-b7ac-50804ec62128",
   "metadata": {},
   "outputs": [],
   "source": [
    "driver8 = webdriver.Chrome()\n",
    "\n",
    "# Load the webpage\n",
    "driver8.get(\"https://www.hostelworld.com/\")"
   ]
  },
  {
   "cell_type": "code",
   "execution_count": 134,
   "id": "f918972c-cd40-4e93-9d7c-5f4d03b58f6e",
   "metadata": {},
   "outputs": [
    {
     "ename": "NoSuchElementException",
     "evalue": "Message: no such element: Unable to locate element: {\"method\":\"xpath\",\"selector\":\"/html/body/div[3]/div/div/div[2]/div[2]/div[2]/div/div/div/div[1]/div[1]/div/div[2]/input\"}\n  (Session info: chrome=126.0.6478.182); For documentation on this error, please visit: https://www.selenium.dev/documentation/webdriver/troubleshooting/errors#no-such-element-exception\nStacktrace:\n\tGetHandleVerifier [0x00007FF64A23EEB2+31554]\n\t(No symbol) [0x00007FF64A1B7EE9]\n\t(No symbol) [0x00007FF64A07872A]\n\t(No symbol) [0x00007FF64A0C8434]\n\t(No symbol) [0x00007FF64A0C853C]\n\t(No symbol) [0x00007FF64A10F6A7]\n\t(No symbol) [0x00007FF64A0ED06F]\n\t(No symbol) [0x00007FF64A10C977]\n\t(No symbol) [0x00007FF64A0ECDD3]\n\t(No symbol) [0x00007FF64A0BA33B]\n\t(No symbol) [0x00007FF64A0BAED1]\n\tGetHandleVerifier [0x00007FF64A548B2D+3217341]\n\tGetHandleVerifier [0x00007FF64A595AF3+3532675]\n\tGetHandleVerifier [0x00007FF64A58B0F0+3489152]\n\tGetHandleVerifier [0x00007FF64A2EE786+750614]\n\t(No symbol) [0x00007FF64A1C376F]\n\t(No symbol) [0x00007FF64A1BEB24]\n\t(No symbol) [0x00007FF64A1BECB2]\n\t(No symbol) [0x00007FF64A1AE17F]\n\tBaseThreadInitThunk [0x00007FFECD2B55A0+16]\n\tRtlUserThreadStart [0x00007FFECE22485B+43]\n",
     "output_type": "error",
     "traceback": [
      "\u001b[1;31m---------------------------------------------------------------------------\u001b[0m",
      "\u001b[1;31mNoSuchElementException\u001b[0m                    Traceback (most recent call last)",
      "Cell \u001b[1;32mIn[134], line 1\u001b[0m\n\u001b[1;32m----> 1\u001b[0m search \u001b[38;5;241m=\u001b[39m driver8\u001b[38;5;241m.\u001b[39mfind_element(By\u001b[38;5;241m.\u001b[39mXPATH, \u001b[38;5;124m\"\u001b[39m\u001b[38;5;124m/html/body/div[3]/div/div/div[2]/div[2]/div[2]/div/div/div/div[1]/div[1]/div/div[2]/input\u001b[39m\u001b[38;5;124m\"\u001b[39m)\n\u001b[0;32m      2\u001b[0m search\u001b[38;5;241m.\u001b[39msend_keys(\u001b[38;5;124m\"\u001b[39m\u001b[38;5;124mLondon\u001b[39m\u001b[38;5;124m\"\u001b[39m)\n\u001b[0;32m      4\u001b[0m time\u001b[38;5;241m.\u001b[39msleep(\u001b[38;5;241m2\u001b[39m)\n",
      "File \u001b[1;32mD:\\Anacodna 25.05.2024\\Lib\\site-packages\\selenium\\webdriver\\remote\\webdriver.py:748\u001b[0m, in \u001b[0;36mWebDriver.find_element\u001b[1;34m(self, by, value)\u001b[0m\n\u001b[0;32m    745\u001b[0m     by \u001b[38;5;241m=\u001b[39m By\u001b[38;5;241m.\u001b[39mCSS_SELECTOR\n\u001b[0;32m    746\u001b[0m     value \u001b[38;5;241m=\u001b[39m \u001b[38;5;124mf\u001b[39m\u001b[38;5;124m'\u001b[39m\u001b[38;5;124m[name=\u001b[39m\u001b[38;5;124m\"\u001b[39m\u001b[38;5;132;01m{\u001b[39;00mvalue\u001b[38;5;132;01m}\u001b[39;00m\u001b[38;5;124m\"\u001b[39m\u001b[38;5;124m]\u001b[39m\u001b[38;5;124m'\u001b[39m\n\u001b[1;32m--> 748\u001b[0m \u001b[38;5;28;01mreturn\u001b[39;00m \u001b[38;5;28mself\u001b[39m\u001b[38;5;241m.\u001b[39mexecute(Command\u001b[38;5;241m.\u001b[39mFIND_ELEMENT, {\u001b[38;5;124m\"\u001b[39m\u001b[38;5;124musing\u001b[39m\u001b[38;5;124m\"\u001b[39m: by, \u001b[38;5;124m\"\u001b[39m\u001b[38;5;124mvalue\u001b[39m\u001b[38;5;124m\"\u001b[39m: value})[\u001b[38;5;124m\"\u001b[39m\u001b[38;5;124mvalue\u001b[39m\u001b[38;5;124m\"\u001b[39m]\n",
      "File \u001b[1;32mD:\\Anacodna 25.05.2024\\Lib\\site-packages\\selenium\\webdriver\\remote\\webdriver.py:354\u001b[0m, in \u001b[0;36mWebDriver.execute\u001b[1;34m(self, driver_command, params)\u001b[0m\n\u001b[0;32m    352\u001b[0m response \u001b[38;5;241m=\u001b[39m \u001b[38;5;28mself\u001b[39m\u001b[38;5;241m.\u001b[39mcommand_executor\u001b[38;5;241m.\u001b[39mexecute(driver_command, params)\n\u001b[0;32m    353\u001b[0m \u001b[38;5;28;01mif\u001b[39;00m response:\n\u001b[1;32m--> 354\u001b[0m     \u001b[38;5;28mself\u001b[39m\u001b[38;5;241m.\u001b[39merror_handler\u001b[38;5;241m.\u001b[39mcheck_response(response)\n\u001b[0;32m    355\u001b[0m     response[\u001b[38;5;124m\"\u001b[39m\u001b[38;5;124mvalue\u001b[39m\u001b[38;5;124m\"\u001b[39m] \u001b[38;5;241m=\u001b[39m \u001b[38;5;28mself\u001b[39m\u001b[38;5;241m.\u001b[39m_unwrap_value(response\u001b[38;5;241m.\u001b[39mget(\u001b[38;5;124m\"\u001b[39m\u001b[38;5;124mvalue\u001b[39m\u001b[38;5;124m\"\u001b[39m, \u001b[38;5;28;01mNone\u001b[39;00m))\n\u001b[0;32m    356\u001b[0m     \u001b[38;5;28;01mreturn\u001b[39;00m response\n",
      "File \u001b[1;32mD:\\Anacodna 25.05.2024\\Lib\\site-packages\\selenium\\webdriver\\remote\\errorhandler.py:229\u001b[0m, in \u001b[0;36mErrorHandler.check_response\u001b[1;34m(self, response)\u001b[0m\n\u001b[0;32m    227\u001b[0m         alert_text \u001b[38;5;241m=\u001b[39m value[\u001b[38;5;124m\"\u001b[39m\u001b[38;5;124malert\u001b[39m\u001b[38;5;124m\"\u001b[39m]\u001b[38;5;241m.\u001b[39mget(\u001b[38;5;124m\"\u001b[39m\u001b[38;5;124mtext\u001b[39m\u001b[38;5;124m\"\u001b[39m)\n\u001b[0;32m    228\u001b[0m     \u001b[38;5;28;01mraise\u001b[39;00m exception_class(message, screen, stacktrace, alert_text)  \u001b[38;5;66;03m# type: ignore[call-arg]  # mypy is not smart enough here\u001b[39;00m\n\u001b[1;32m--> 229\u001b[0m \u001b[38;5;28;01mraise\u001b[39;00m exception_class(message, screen, stacktrace)\n",
      "\u001b[1;31mNoSuchElementException\u001b[0m: Message: no such element: Unable to locate element: {\"method\":\"xpath\",\"selector\":\"/html/body/div[3]/div/div/div[2]/div[2]/div[2]/div/div/div/div[1]/div[1]/div/div[2]/input\"}\n  (Session info: chrome=126.0.6478.182); For documentation on this error, please visit: https://www.selenium.dev/documentation/webdriver/troubleshooting/errors#no-such-element-exception\nStacktrace:\n\tGetHandleVerifier [0x00007FF64A23EEB2+31554]\n\t(No symbol) [0x00007FF64A1B7EE9]\n\t(No symbol) [0x00007FF64A07872A]\n\t(No symbol) [0x00007FF64A0C8434]\n\t(No symbol) [0x00007FF64A0C853C]\n\t(No symbol) [0x00007FF64A10F6A7]\n\t(No symbol) [0x00007FF64A0ED06F]\n\t(No symbol) [0x00007FF64A10C977]\n\t(No symbol) [0x00007FF64A0ECDD3]\n\t(No symbol) [0x00007FF64A0BA33B]\n\t(No symbol) [0x00007FF64A0BAED1]\n\tGetHandleVerifier [0x00007FF64A548B2D+3217341]\n\tGetHandleVerifier [0x00007FF64A595AF3+3532675]\n\tGetHandleVerifier [0x00007FF64A58B0F0+3489152]\n\tGetHandleVerifier [0x00007FF64A2EE786+750614]\n\t(No symbol) [0x00007FF64A1C376F]\n\t(No symbol) [0x00007FF64A1BEB24]\n\t(No symbol) [0x00007FF64A1BECB2]\n\t(No symbol) [0x00007FF64A1AE17F]\n\tBaseThreadInitThunk [0x00007FFECD2B55A0+16]\n\tRtlUserThreadStart [0x00007FFECE22485B+43]\n"
     ]
    }
   ],
   "source": [
    "search = driver8.find_element(By.XPATH, \"/html/body/div[3]/div/div/div[2]/div[2]/div[2]/div/div/div/div[1]/div[1]/div/div[2]/input\")\n",
    "search.send_keys(\"London\")\n",
    "\n",
    "time.sleep(2)\n",
    "\n",
    "#select london\n",
    "london = driver8.find_element(By.XPATH, '//*[@id=\"3\"]/button/div[2]')\n",
    "london.click()\n",
    "time.sleep(2)\n",
    "\n",
    "# do click in search button\n",
    "search_btn = driver8.find_element(By.XPATH, '//*[@id=\"__layout\"]/div/div[2]/div[2]/div[2]/div/div/div/div[5]/button')\n",
    "search_btn.click()"
   ]
  },
  {
   "cell_type": "code",
   "execution_count": 136,
   "id": "21833200-7dac-4aed-93cc-524e7e5bdaa8",
   "metadata": {},
   "outputs": [],
   "source": []
  },
  {
   "cell_type": "code",
   "execution_count": null,
   "id": "d6da756e-a0b9-4d49-a280-5c34acd5a7c5",
   "metadata": {},
   "outputs": [],
   "source": []
  },
  {
   "cell_type": "code",
   "execution_count": null,
   "id": "28b4c63f-af86-4443-abf3-0742c0345242",
   "metadata": {},
   "outputs": [],
   "source": []
  },
  {
   "cell_type": "code",
   "execution_count": null,
   "id": "46bccf1d-e97a-48b8-aa0a-e97f980b95ea",
   "metadata": {},
   "outputs": [],
   "source": []
  },
  {
   "cell_type": "code",
   "execution_count": null,
   "id": "c6507360-0c9c-4a2b-aafd-e9fc82316364",
   "metadata": {},
   "outputs": [],
   "source": []
  },
  {
   "cell_type": "code",
   "execution_count": null,
   "id": "b0354ce1-9d5b-412a-b378-293f4c6e4e81",
   "metadata": {},
   "outputs": [],
   "source": []
  },
  {
   "cell_type": "code",
   "execution_count": null,
   "id": "53022a7f-3235-4bb1-8045-033c95a609b7",
   "metadata": {},
   "outputs": [],
   "source": []
  },
  {
   "cell_type": "code",
   "execution_count": null,
   "id": "7de6dc27-85f5-4df1-b8b5-d0321264adc1",
   "metadata": {},
   "outputs": [],
   "source": []
  },
  {
   "cell_type": "code",
   "execution_count": null,
   "id": "a4f382b8-52cf-4703-98e6-d6dc3beceab4",
   "metadata": {},
   "outputs": [],
   "source": []
  },
  {
   "cell_type": "code",
   "execution_count": null,
   "id": "a8f34f2d-2e1d-46c9-8c43-acc009904bfd",
   "metadata": {},
   "outputs": [],
   "source": []
  },
  {
   "cell_type": "code",
   "execution_count": null,
   "id": "84cb513f-57b7-4a57-9b97-b6127d6536df",
   "metadata": {},
   "outputs": [],
   "source": []
  },
  {
   "cell_type": "code",
   "execution_count": null,
   "id": "b725792e-6d6d-495a-9764-35e5049863a2",
   "metadata": {},
   "outputs": [],
   "source": []
  },
  {
   "cell_type": "code",
   "execution_count": null,
   "id": "bcbc370b-9bb7-4bd0-80e4-73d2d6c8112b",
   "metadata": {},
   "outputs": [],
   "source": []
  },
  {
   "cell_type": "code",
   "execution_count": null,
   "id": "5179a2d6-18af-4475-a303-78216a63fc58",
   "metadata": {},
   "outputs": [],
   "source": []
  },
  {
   "cell_type": "code",
   "execution_count": null,
   "id": "ef9c2f0f-546b-48ab-b661-944557e04539",
   "metadata": {},
   "outputs": [],
   "source": []
  },
  {
   "cell_type": "code",
   "execution_count": null,
   "id": "adc9c617-d1dc-401f-94f3-cfde8ea56343",
   "metadata": {},
   "outputs": [],
   "source": []
  },
  {
   "cell_type": "code",
   "execution_count": null,
   "id": "ffb23563-d779-4bb2-b661-f3a9e92994a3",
   "metadata": {},
   "outputs": [],
   "source": []
  },
  {
   "cell_type": "code",
   "execution_count": null,
   "id": "5a0b8ec7-811f-4fc2-852a-aac15f2f0855",
   "metadata": {},
   "outputs": [],
   "source": []
  },
  {
   "cell_type": "code",
   "execution_count": null,
   "id": "e632c739-f992-46fd-b768-3c9512e3ec47",
   "metadata": {},
   "outputs": [],
   "source": []
  },
  {
   "cell_type": "code",
   "execution_count": null,
   "id": "bcfdca01-33c7-4e8f-9eff-5f6b6da96500",
   "metadata": {},
   "outputs": [],
   "source": []
  },
  {
   "cell_type": "code",
   "execution_count": null,
   "id": "70c8dd2c-3a94-4ace-a180-34fbb6aa4c41",
   "metadata": {},
   "outputs": [],
   "source": []
  },
  {
   "cell_type": "code",
   "execution_count": null,
   "id": "ed9d9051-2c10-4665-9712-3cb097eb3a05",
   "metadata": {},
   "outputs": [],
   "source": []
  },
  {
   "cell_type": "code",
   "execution_count": null,
   "id": "6d398ad7-ab3f-4598-a342-a001e4f345c1",
   "metadata": {},
   "outputs": [],
   "source": []
  },
  {
   "cell_type": "code",
   "execution_count": null,
   "id": "ca91a281-e725-49c3-bf82-d90d67c82875",
   "metadata": {},
   "outputs": [],
   "source": []
  },
  {
   "cell_type": "code",
   "execution_count": null,
   "id": "64d8a006-81d5-44e0-9e95-3ae262b0c823",
   "metadata": {},
   "outputs": [],
   "source": []
  },
  {
   "cell_type": "code",
   "execution_count": null,
   "id": "5c7a4792-0af4-4cf1-bdab-f37711e580a2",
   "metadata": {},
   "outputs": [],
   "source": []
  },
  {
   "cell_type": "code",
   "execution_count": null,
   "id": "8810f87a-7103-4760-bdaa-3360206c9be1",
   "metadata": {},
   "outputs": [],
   "source": []
  },
  {
   "cell_type": "code",
   "execution_count": null,
   "id": "e020b5ee-bd31-44c2-8f62-c529d3a3aab6",
   "metadata": {},
   "outputs": [],
   "source": []
  },
  {
   "cell_type": "code",
   "execution_count": null,
   "id": "9587756b-8165-4aca-b33f-5ee9a981856e",
   "metadata": {},
   "outputs": [],
   "source": []
  },
  {
   "cell_type": "code",
   "execution_count": null,
   "id": "0fe2c6e4-9f05-4cbe-bf91-1a71b55f2c9d",
   "metadata": {},
   "outputs": [],
   "source": []
  },
  {
   "cell_type": "code",
   "execution_count": null,
   "id": "997d16f1-cc09-4218-8e9d-6a9bd7c7724b",
   "metadata": {},
   "outputs": [],
   "source": []
  },
  {
   "cell_type": "code",
   "execution_count": null,
   "id": "52146033-ef3e-41fa-a37a-3b84576c67eb",
   "metadata": {},
   "outputs": [],
   "source": []
  },
  {
   "cell_type": "code",
   "execution_count": null,
   "id": "c3c6a78c-161d-4f9d-afa1-75649f3141e9",
   "metadata": {},
   "outputs": [],
   "source": []
  },
  {
   "cell_type": "code",
   "execution_count": null,
   "id": "a29ee24b-fdd2-4e45-b5b7-d997f5491648",
   "metadata": {},
   "outputs": [],
   "source": []
  },
  {
   "cell_type": "code",
   "execution_count": null,
   "id": "09ec7894-f923-4489-baa6-7e3fd5288642",
   "metadata": {},
   "outputs": [],
   "source": []
  }
 ],
 "metadata": {
  "kernelspec": {
   "display_name": "Python 3 (ipykernel)",
   "language": "python",
   "name": "python3"
  },
  "language_info": {
   "codemirror_mode": {
    "name": "ipython",
    "version": 3
   },
   "file_extension": ".py",
   "mimetype": "text/x-python",
   "name": "python",
   "nbconvert_exporter": "python",
   "pygments_lexer": "ipython3",
   "version": "3.11.7"
  }
 },
 "nbformat": 4,
 "nbformat_minor": 5
}
